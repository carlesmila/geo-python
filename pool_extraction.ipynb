{
 "cells": [
  {
   "cell_type": "markdown",
   "metadata": {},
   "source": [
    "# Pool detection in Barcelona using python\n",
    "\n",
    "In this post we will focus on extracting swimming pools for the city of Barcelona using remote sensing data and python tools, and aggregate them at the census tract level. The motivation behind this post is twofold. First, I'd like to try out several python-based tools I have never used (*pyearth*) and get more familiar with packages I have used but that I want to explore further (*geopandas*). Second, I will use the extracted information to correlate pool presence with income in the city. This script was written in a Jupyter notebook and converted to a markdown file to be able to merge it in the *blogdown* R-based blog."
   ]
  },
  {
   "cell_type": "code",
   "execution_count": 1,
   "metadata": {},
   "outputs": [],
   "source": [
    "import geopandas as pd\n",
    "from sentinelsat import SentinelAPI"
   ]
  },
  {
   "cell_type": "markdown",
   "metadata": {},
   "source": [
    "## Reading S2 images\n",
    "\n",
    "For this analysis, we will use Sentinel 2 data from ESA. Sentinel 2 is a constellation of 2 Earth Observation satellites with passive sensors that capture reflectance in the visible and infra-red parts of the electromagnetic spectrum. Sentinel 2 has a spatial resolution of 10m in most of the bands. While this resolution is certainly impressive, it may not be enough to detect small swimming pools. But that's all we got, so let's get started! :)\n",
    "    \n",
    "We will download data from the sentinel hub using the *sentinelsat* module following [this nice tutorial](https://www.gis-blog.com/download-sentinel-2-data-using-python-or-command-line/) by Martin Šiklar."
   ]
  },
  {
   "cell_type": "code",
   "execution_count": null,
   "metadata": {},
   "outputs": [],
   "source": []
  }
 ],
 "metadata": {
  "kernelspec": {
   "display_name": "Python 3",
   "language": "python",
   "name": "python3"
  },
  "language_info": {
   "codemirror_mode": {
    "name": "ipython",
    "version": 3
   },
   "file_extension": ".py",
   "mimetype": "text/x-python",
   "name": "python",
   "nbconvert_exporter": "python",
   "pygments_lexer": "ipython3",
   "version": "3.7.4"
  }
 },
 "nbformat": 4,
 "nbformat_minor": 2
}
