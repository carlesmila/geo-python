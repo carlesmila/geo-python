{
 "cells": [
  {
   "cell_type": "code",
   "execution_count": 3,
   "metadata": {},
   "outputs": [],
   "source": [
    "import geopandas as pd\n",
    "from sentinelsat import SentinelAPI, read_geojson, geojson_to_wkt\n",
    "from datetime import date"
   ]
  },
  {
   "cell_type": "markdown",
   "metadata": {},
   "source": [
    "# Reading S2 images\n",
    "\n",
    "In this notebook we will download Sentinel 2 data from ESA. Sentinel 2 is a constellation of 2 Earth Observation satellites with passive sensors that capture reflectance in the visible and infra-red parts of the electromagnetic spectrum. Sentinel 2 has a spatial resolution of 10m in most of the bands. While this resolution is certainly impressive, it may not be enough to detect small swimming pools. But that's all we got, so let's get started! :)\n",
    "    \n",
    "We will download data from the sentinel hub for Barcelona using the *sentinelsat* module following [the nice tutorial](https://sentinelsat.readthedocs.io/en/stable/api.html) provided in the documentation. We will use administrative boundaries for the city in geojson format extracted from [this repo](https://github.com/martgnz/bcn-geodata)."
   ]
  },
  {
   "cell_type": "code",
   "execution_count": 5,
   "metadata": {},
   "outputs": [],
   "source": [
    "# api = SentinelAPI('user', 'password', 'https://scihub.copernicus.eu/dhus')\n",
    "\n",
    "# search by polygon, time, and SciHub query keywords\n",
    "footprint = geojson_to_wkt(read_geojson('data/boundaries/bcn.geojson'))\n",
    "\n",
    "# products = api.query(footprint,\n",
    "#                     date = ('20200715','20200815'),\n",
    "#                     platformname='Sentinel-2')"
   ]
  }
 ],
 "metadata": {
  "kernelspec": {
   "display_name": "Python 3",
   "language": "python",
   "name": "python3"
  },
  "language_info": {
   "codemirror_mode": {
    "name": "ipython",
    "version": 3
   },
   "file_extension": ".py",
   "mimetype": "text/x-python",
   "name": "python",
   "nbconvert_exporter": "python",
   "pygments_lexer": "ipython3",
   "version": "3.7.4"
  }
 },
 "nbformat": 4,
 "nbformat_minor": 2
}
