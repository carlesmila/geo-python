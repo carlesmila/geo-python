{
 "cells": [
  {
   "cell_type": "markdown",
   "metadata": {},
   "source": [
    "# Pool detection in Sant Just using python\n",
    "\n",
    "In this post we will focus on extracting swimming pools for the town of Sant Just Desvern (Barcelona, Spain) using remote sensing data and python tools, and aggregate them at the census tract level. The motivation behind this post is twofold. First, I'd like to try out several python-based tools I have never used (*pyearth*) and get more familiar with packages I have used but that I want to explore further (*geopandas*). Second, I will use the extracted information to correlate pool presence with income in the city. This script was written in a Jupyter notebook and converted to a markdown file to be able to merge it in the *blogdown* R-based blog."
   ]
  },
  {
   "cell_type": "code",
   "execution_count": null,
   "metadata": {},
   "outputs": [],
   "source": []
  }
 ],
 "metadata": {
  "kernelspec": {
   "display_name": "Python 3",
   "language": "python",
   "name": "python3"
  },
  "language_info": {
   "codemirror_mode": {
    "name": "ipython",
    "version": 3
   },
   "file_extension": ".py",
   "mimetype": "text/x-python",
   "name": "python",
   "nbconvert_exporter": "python",
   "pygments_lexer": "ipython3",
   "version": "3.7.4"
  }
 },
 "nbformat": 4,
 "nbformat_minor": 2
}
